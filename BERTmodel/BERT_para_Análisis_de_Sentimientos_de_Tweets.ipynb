{
  "cells": [
    {
      "cell_type": "markdown",
      "metadata": {
        "id": "g3rLiSU0H9HR"
      },
      "source": [
        "### 1. Configuracion del entorno y descarga de data set\n",
        "\n",
        "\n"
      ]
    },
    {
      "cell_type": "code",
      "execution_count": null,
      "metadata": {
        "colab": {
          "base_uri": "https://localhost:8080/"
        },
        "id": "SjrU4WiWGGb6",
        "outputId": "b6038271-9077-43bd-a627-0922f78d3b42"
      },
      "outputs": [
        {
          "output_type": "stream",
          "name": "stdout",
          "text": [
            "Requirement already satisfied: transformers in /usr/local/lib/python3.11/dist-packages (4.55.0)\n",
            "Requirement already satisfied: filelock in /usr/local/lib/python3.11/dist-packages (from transformers) (3.18.0)\n",
            "Requirement already satisfied: huggingface-hub<1.0,>=0.34.0 in /usr/local/lib/python3.11/dist-packages (from transformers) (0.34.3)\n",
            "Requirement already satisfied: numpy>=1.17 in /usr/local/lib/python3.11/dist-packages (from transformers) (2.0.2)\n",
            "Requirement already satisfied: packaging>=20.0 in /usr/local/lib/python3.11/dist-packages (from transformers) (25.0)\n",
            "Requirement already satisfied: pyyaml>=5.1 in /usr/local/lib/python3.11/dist-packages (from transformers) (6.0.2)\n",
            "Requirement already satisfied: regex!=2019.12.17 in /usr/local/lib/python3.11/dist-packages (from transformers) (2024.11.6)\n",
            "Requirement already satisfied: requests in /usr/local/lib/python3.11/dist-packages (from transformers) (2.32.3)\n",
            "Requirement already satisfied: tokenizers<0.22,>=0.21 in /usr/local/lib/python3.11/dist-packages (from transformers) (0.21.4)\n",
            "Requirement already satisfied: safetensors>=0.4.3 in /usr/local/lib/python3.11/dist-packages (from transformers) (0.6.1)\n",
            "Requirement already satisfied: tqdm>=4.27 in /usr/local/lib/python3.11/dist-packages (from transformers) (4.67.1)\n",
            "Requirement already satisfied: fsspec>=2023.5.0 in /usr/local/lib/python3.11/dist-packages (from huggingface-hub<1.0,>=0.34.0->transformers) (2025.3.0)\n",
            "Requirement already satisfied: typing-extensions>=3.7.4.3 in /usr/local/lib/python3.11/dist-packages (from huggingface-hub<1.0,>=0.34.0->transformers) (4.14.1)\n",
            "Requirement already satisfied: hf-xet<2.0.0,>=1.1.3 in /usr/local/lib/python3.11/dist-packages (from huggingface-hub<1.0,>=0.34.0->transformers) (1.1.7)\n",
            "Requirement already satisfied: charset-normalizer<4,>=2 in /usr/local/lib/python3.11/dist-packages (from requests->transformers) (3.4.2)\n",
            "Requirement already satisfied: idna<4,>=2.5 in /usr/local/lib/python3.11/dist-packages (from requests->transformers) (3.10)\n",
            "Requirement already satisfied: urllib3<3,>=1.21.1 in /usr/local/lib/python3.11/dist-packages (from requests->transformers) (2.5.0)\n",
            "Requirement already satisfied: certifi>=2017.4.17 in /usr/local/lib/python3.11/dist-packages (from requests->transformers) (2025.8.3)\n"
          ]
        }
      ],
      "source": [
        "!pip install transformers"
      ]
    },
    {
      "cell_type": "code",
      "execution_count": null,
      "metadata": {
        "id": "pWS4xG9DG9_w"
      },
      "outputs": [],
      "source": [
        "from transformers import BertModel, BertTokenizer, get_linear_schedule_with_warmup\n",
        "from torch.optim import AdamW # Corrected import\n",
        "import torch\n",
        "import numpy as np\n",
        "from sklearn.model_selection import train_test_split\n",
        "from torch import nn, optim\n",
        "from torch.utils.data import Dataset, DataLoader\n",
        "import pandas as pd\n",
        "from textwrap import wrap\n",
        "from sklearn.metrics import f1_score, classification_report, confusion_matrix\n",
        "from sklearn.utils.class_weight import compute_class_weight"
      ]
    },
    {
      "cell_type": "code",
      "execution_count": null,
      "metadata": {
        "id": "tK4lxL0pGMRE"
      },
      "outputs": [],
      "source": [
        "# ==================================\n",
        "# 1. CONFIGURACIÓN\n",
        "# ==================================\n",
        "# --- Parámetros del Modelo y Tokenizador ---\n",
        "PRE_TRAINED_MODEL_NAME = 'bert-base-cased'\n",
        "MAX_LEN = 160 # Longitud máxima para los tokens de un tweet"
      ]
    },
    {
      "cell_type": "code",
      "execution_count": null,
      "metadata": {
        "id": "LQSeKV9JGP0K"
      },
      "outputs": [],
      "source": [
        "# --- Parámetros de Entrenamiento ---\n",
        "BATCH_SIZE = 16\n",
        "EPOCHS = 5 # Menos épocas pueden ser suficientes con BERT\n",
        "RANDOM_SEED = 42"
      ]
    },
    {
      "cell_type": "code",
      "source": [],
      "metadata": {
        "id": "Z1G6p_ZmQfkz"
      },
      "execution_count": null,
      "outputs": []
    },
    {
      "cell_type": "code",
      "execution_count": null,
      "metadata": {
        "colab": {
          "base_uri": "https://localhost:8080/"
        },
        "id": "I1I-y_30Hzbz",
        "outputId": "737527cf-82a5-4e0e-e07b-c913c3c52c9b"
      },
      "outputs": [
        {
          "output_type": "stream",
          "name": "stdout",
          "text": [
            "Usando dispositivo: cuda:0\n"
          ]
        }
      ],
      "source": [
        "# --- Configuración del Dispositivo ---\n",
        "device = torch.device(\"cuda:0\" if torch.cuda.is_available() else \"cpu\")\n",
        "print(f\"Usando dispositivo: {device}\")"
      ]
    },
    {
      "cell_type": "code",
      "execution_count": null,
      "metadata": {
        "colab": {
          "base_uri": "https://localhost:8080/"
        },
        "id": "uJLC8lDxIkux",
        "outputId": "2cbb89f9-f391-4aed-87b1-9f0caff52b56"
      },
      "outputs": [
        {
          "output_type": "stream",
          "name": "stdout",
          "text": [
            "Usando dispositivo: cuda:0\n"
          ]
        }
      ],
      "source": [
        "# --- Semillas para reproducibilidad ---\n",
        "np.random.seed(RANDOM_SEED)\n",
        "torch.manual_seed(RANDOM_SEED)\n",
        "device = torch.device(\"cuda:0\" if torch.cuda.is_available() else \"cpu\")\n",
        "print(f\"Usando dispositivo: {device}\")"
      ]
    },
    {
      "cell_type": "code",
      "source": [
        "# 🔹 Semillas adicionales para reproducibilidad completa\n",
        "import random\n",
        "torch.cuda.manual_seed_all(RANDOM_SEED)\n",
        "random.seed(RANDOM_SEED)\n",
        "torch.backends.cudnn.deterministic = True\n",
        "torch.backends.cudnn.benchmark = False"
      ],
      "metadata": {
        "id": "KbwMQVDiO-tO"
      },
      "execution_count": null,
      "outputs": []
    },
    {
      "cell_type": "markdown",
      "metadata": {
        "id": "K9V-wir2IaMx"
      },
      "source": [
        "###2. Limpieza de datos"
      ]
    },
    {
      "cell_type": "code",
      "execution_count": null,
      "metadata": {
        "colab": {
          "base_uri": "https://localhost:8080/"
        },
        "id": "z0dgi6WQGdcx",
        "outputId": "1bf293b4-08c0-415a-94ce-27a95f62e236"
      },
      "outputs": [
        {
          "output_type": "stream",
          "name": "stdout",
          "text": [
            "\n",
            "Descargando dataset 'twitter-airline-sentiment' desde KaggleHub...\n",
            "Downloading from https://www.kaggle.com/api/v1/datasets/download/crowdflower/twitter-airline-sentiment?dataset_version_number=4...\n"
          ]
        },
        {
          "output_type": "stream",
          "name": "stderr",
          "text": [
            "100%|██████████| 2.55M/2.55M [00:00<00:00, 64.5MB/s]"
          ]
        },
        {
          "output_type": "stream",
          "name": "stdout",
          "text": [
            "Extracting files...\n"
          ]
        },
        {
          "output_type": "stream",
          "name": "stderr",
          "text": [
            "\n"
          ]
        },
        {
          "output_type": "stream",
          "name": "stdout",
          "text": [
            "Dataset descargado en: /root/.cache/kagglehub/datasets/crowdflower/twitter-airline-sentiment/versions/4\n"
          ]
        }
      ],
      "source": [
        "# ==================================\n",
        "# 2. CARGA Y LIMPIEZA DE DATOS\n",
        "# ==================================\n",
        "import kagglehub  # <-- SOLUCIÓN: Añade esta línea para importar la biblioteca\n",
        "\n",
        "print(\"\\nDescargando dataset 'twitter-airline-sentiment' desde KaggleHub...\")\n",
        "# Descarga y descomprime el dataset en un directorio local usando kagglehub\n",
        "path = kagglehub.dataset_download(\"crowdflower/twitter-airline-sentiment\")\n",
        "csv_path = f\"{path}/Tweets.csv\"\n",
        "print(f\"Dataset descargado en: {path}\")\n"
      ]
    },
    {
      "cell_type": "code",
      "execution_count": null,
      "metadata": {
        "id": "vmpTiVZwbIee"
      },
      "outputs": [],
      "source": [
        "# Carga los datos en un DataFrame de pandas\n",
        "df = pd.read_csv(csv_path)"
      ]
    },
    {
      "cell_type": "code",
      "execution_count": null,
      "metadata": {
        "colab": {
          "base_uri": "https://localhost:8080/"
        },
        "id": "7YFT84zkH7JB",
        "outputId": "e61a4e6f-69a6-4647-9389-80ca8a722c42"
      },
      "outputs": [
        {
          "output_type": "stream",
          "name": "stdout",
          "text": [
            "Limpiando tweets...\n"
          ]
        }
      ],
      "source": [
        "# --- Preprocesamiento y Limpieza ---\n",
        "# Seleccionamos solo las columnas que necesitamos\n",
        "\n",
        "import re # Import the regular expression module\n",
        "\n",
        "def clean_tweet(tweet: str) -> str:\n",
        "    # Eliminar URLs y menciones\n",
        "    tweet = re.sub(r'http\\S+|www\\.\\S+', '', tweet)\n",
        "    tweet = re.sub(r'@\\w+', '', tweet)\n",
        "    # Colapsar espacios\n",
        "    tweet = re.sub(r'\\s+', ' ', tweet).strip()\n",
        "    return tweet\n",
        "\n",
        "print(\"Limpiando tweets...\")\n",
        "df['text'] = df['text'].astype(str).apply(clean_tweet)\n"
      ]
    },
    {
      "cell_type": "code",
      "execution_count": null,
      "metadata": {
        "colab": {
          "base_uri": "https://localhost:8080/"
        },
        "id": "_5NQfEBWd49w",
        "outputId": "6cc291ca-045b-4536-89f3-57a3feecaa19"
      },
      "outputs": [
        {
          "output_type": "stream",
          "name": "stdout",
          "text": [
            "\n",
            "Número de clases: 3\n",
            "Distribución de sentimientos:\n",
            "airline_sentiment\n",
            "negative    9178\n",
            "neutral     3099\n",
            "positive    2363\n",
            "Name: count, dtype: int64\n"
          ]
        }
      ],
      "source": [
        "# Mapeo de etiquetas de sentimiento a números\n",
        "# El dataset original tiene 'negative', 'neutral', 'positive'\n",
        "sentiment_map = {'negative': 0, 'neutral': 1, 'positive': 2}\n",
        "df['label'] = df['airline_sentiment'].map(sentiment_map)\n",
        "N_CLASSES = len(sentiment_map)\n",
        "\n",
        "print(f\"\\nNúmero de clases: {N_CLASSES}\")\n",
        "print(f\"Distribución de sentimientos:\\n{df['airline_sentiment'].value_counts()}\")\n"
      ]
    },
    {
      "cell_type": "code",
      "execution_count": null,
      "metadata": {
        "id": "vd2Gs5LkeGHI",
        "colab": {
          "base_uri": "https://localhost:8080/",
          "height": 269,
          "referenced_widgets": [
            "69e5271fd3144ce4b9be5c537a103146",
            "e4c05b311c34456f9ce90bb849305660",
            "207ac2e5a5eb4815a7a89dfd03101689",
            "efb08aa488f344368b8ad7cd4bfad33e",
            "3b0520b2513a4828a19d37879b238033",
            "1ba5bfa73ee8442d8ce53da9e73cdd53",
            "b72343eb706646d8bcc42ea35dfbd7fc",
            "1badd695198a4753bfe6e7e31b2d846d",
            "2dc5506489c84fdc975cb1da28a0c35c",
            "a7b43a81dc7b4c74877d7cdbf989aef2",
            "47d8d5e594594d09bf4eab280a839533",
            "6587a9dfab6847ad8a227e0b6a3972e3",
            "c20ad179116e4d21a4b53cc06d0d234c",
            "a0e54bb1f16949189d95f946c63d2834",
            "42c6db29b3794ba7a07aac13967a9b08",
            "af638b9c8e2d4736b7229f3bb9eaa49a",
            "39a57ae5a5f1406fb06a56fd4a5ce64c",
            "aa9b72ffab6d475493177ece7a50e45e",
            "11f0b88da2f9412bac7c5e997054924c",
            "6befb5b8f5b04995a2a5057b429dfb6e",
            "620e0bc2e431442b9862fd6af2990036",
            "5998913fa6e44fa199ce8630fdc5c025",
            "90c5ff4a87d944adb7d02c7c5be78527",
            "ae4d404c25794412b123c99b008d3f1e",
            "e22b74e1a70d48dc964f3f9db25d97b7",
            "842a2298c8634917a7f316ce8f756eab",
            "b618e504879a4c35bc964de4c6536372",
            "acec74002bc44d58a88acbb79caddb2e",
            "1dd34381c9684b33ae3ebb6bfa27e611",
            "8190d139cb284a7f9fee90a959241fa9",
            "44427c9f1b08483789eaa4d80648a0b5",
            "a48f66ceea0b470e96d82b0707150ef3",
            "c850357509bc43fea9793d822afc9426",
            "fd56e973a147445d9d1b3b66e8f13b1b",
            "31aca375b51d480e93cbc07ecce1143e",
            "2da8bf555d70469caed348d512fdf257",
            "ae576251627c4f989a59846aa9d366e8",
            "6785b92e44a94520823f52fd91dd9c7b",
            "463572a6f5544f98b729047769d47b77",
            "b78feeeb690d45e5a6e91d9725d2c1aa",
            "893ba90b335b45a798fe8a05a104d054",
            "0e56cab1dae14e1083a4f2b571f7ab79",
            "93397b8f827f491f8a30775c7173d115",
            "75dc5423f59c41bb90f0653344660dc2"
          ]
        },
        "outputId": "870d3e4e-c224-4567-fec7-83b654b46040"
      },
      "outputs": [
        {
          "output_type": "stream",
          "name": "stderr",
          "text": [
            "/usr/local/lib/python3.11/dist-packages/huggingface_hub/utils/_auth.py:94: UserWarning: \n",
            "The secret `HF_TOKEN` does not exist in your Colab secrets.\n",
            "To authenticate with the Hugging Face Hub, create a token in your settings tab (https://huggingface.co/settings/tokens), set it as secret in your Google Colab and restart your session.\n",
            "You will be able to reuse this secret in all of your notebooks.\n",
            "Please note that authentication is recommended but still optional to access public models or datasets.\n",
            "  warnings.warn(\n"
          ]
        },
        {
          "output_type": "display_data",
          "data": {
            "text/plain": [
              "tokenizer_config.json:   0%|          | 0.00/49.0 [00:00<?, ?B/s]"
            ],
            "application/vnd.jupyter.widget-view+json": {
              "version_major": 2,
              "version_minor": 0,
              "model_id": "69e5271fd3144ce4b9be5c537a103146"
            }
          },
          "metadata": {}
        },
        {
          "output_type": "display_data",
          "data": {
            "text/plain": [
              "vocab.txt:   0%|          | 0.00/213k [00:00<?, ?B/s]"
            ],
            "application/vnd.jupyter.widget-view+json": {
              "version_major": 2,
              "version_minor": 0,
              "model_id": "6587a9dfab6847ad8a227e0b6a3972e3"
            }
          },
          "metadata": {}
        },
        {
          "output_type": "display_data",
          "data": {
            "text/plain": [
              "tokenizer.json:   0%|          | 0.00/436k [00:00<?, ?B/s]"
            ],
            "application/vnd.jupyter.widget-view+json": {
              "version_major": 2,
              "version_minor": 0,
              "model_id": "90c5ff4a87d944adb7d02c7c5be78527"
            }
          },
          "metadata": {}
        },
        {
          "output_type": "display_data",
          "data": {
            "text/plain": [
              "config.json:   0%|          | 0.00/570 [00:00<?, ?B/s]"
            ],
            "application/vnd.jupyter.widget-view+json": {
              "version_major": 2,
              "version_minor": 0,
              "model_id": "fd56e973a147445d9d1b3b66e8f13b1b"
            }
          },
          "metadata": {}
        }
      ],
      "source": [
        "# ==================================\n",
        "# 3. DATASET Y DATALOADER DE PYTORCH\n",
        "# ==================================\n",
        "tokenizer = BertTokenizer.from_pretrained(PRE_TRAINED_MODEL_NAME)\n",
        "\n",
        "class TweetSentimentDataset(Dataset):\n",
        "    \"\"\"\n",
        "    Clase para empaquetar los datos en un formato que PyTorch entiende.\n",
        "    \"\"\"\n",
        "    def __init__(self, texts, labels, tokenizer, max_len):\n",
        "        self.texts = texts\n",
        "        self.labels = labels\n",
        "        self.tokenizer = tokenizer\n",
        "        self.max_len = max_len\n",
        "\n",
        "    def __len__(self):\n",
        "        return len(self.texts)\n",
        "\n",
        "    def __getitem__(self, item):\n",
        "        text = str(self.texts[item])\n",
        "        label = self.labels[item]\n",
        "\n",
        "        encoding = self.tokenizer.encode_plus(\n",
        "            text,\n",
        "            add_special_tokens=True,\n",
        "            max_length=self.max_len,\n",
        "            return_token_type_ids=False,\n",
        "            padding='max_length',\n",
        "            truncation=True,\n",
        "            return_attention_mask=True,\n",
        "            return_tensors='pt',\n",
        "        )\n",
        "\n",
        "        return {\n",
        "            'text': text,\n",
        "            'input_ids': encoding['input_ids'].flatten(),\n",
        "            'attention_mask': encoding['attention_mask'].flatten(),\n",
        "            'label': torch.tensor(label, dtype=torch.long)\n",
        "        }\n",
        "\n",
        "def create_data_loader(df, tokenizer, max_len, batch_size):\n",
        "    \"\"\"\n",
        "    Función helper para crear un DataLoader a partir de un DataFrame.\n",
        "    \"\"\"\n",
        "    ds = TweetSentimentDataset(\n",
        "        texts=df.text.to_numpy(),\n",
        "        labels=df.label.to_numpy(),\n",
        "        tokenizer=tokenizer,\n",
        "        max_len=max_len\n",
        "    )\n",
        "    # num_workers acelera la carga de datos si la CPU tiene múltiples núcleos\n",
        "    return DataLoader(ds, batch_size=batch_size, num_workers=2)"
      ]
    },
    {
      "cell_type": "code",
      "execution_count": null,
      "metadata": {
        "id": "ONtEue5MeOaW"
      },
      "outputs": [],
      "source": [
        "# --- División de datos en entrenamiento y prueba ---\n",
        "# stratify asegura que la proporción de sentimientos sea la misma en ambos sets\n",
        "from sklearn.model_selection import train_test_split\n",
        "\n",
        "# 80/10/10 estratificado\n",
        "df_train, df_temp = train_test_split(\n",
        "    df, test_size=0.2, random_state=RANDOM_SEED, stratify=df['label']\n",
        ")\n",
        "df_val, df_test = train_test_split(\n",
        "    df_temp, test_size=0.5, random_state=RANDOM_SEED, stratify=df_temp['label']\n",
        ")\n",
        "\n",
        "train_data_loader = create_data_loader(df_train, tokenizer, MAX_LEN, BATCH_SIZE)\n",
        "val_data_loader   = create_data_loader(df_val,   tokenizer, MAX_LEN, BATCH_SIZE)\n",
        "test_data_loader  = create_data_loader(df_test,  tokenizer, MAX_LEN, BATCH_SIZE)\n",
        "\n"
      ]
    },
    {
      "cell_type": "code",
      "execution_count": null,
      "metadata": {
        "id": "eBFeqHLQeS3e",
        "colab": {
          "base_uri": "https://localhost:8080/",
          "height": 49,
          "referenced_widgets": [
            "eac0304a8a194ef8a48bf38d46c879e2",
            "a0f8495dfa08418682bcba901b370759",
            "6bc3f495ed4b4cadb69360db42b4858b",
            "dc2789e529f74ffeb4d8b03c86611edd",
            "afd2beac6f234a3ba28903ac74d88fb2",
            "b1be29ef848441cfa62451dcd2141319",
            "52a954151a904dbeb9ff4feef21b9e74",
            "9135cbceda3e4c0f9b48733f95f98ff0",
            "3eb64087405d42d1b3d10a7d01c54e55",
            "8886f40912bf40859d059b6f0cb3a364",
            "55852a94a2b44927905de85c3bb5814d"
          ]
        },
        "outputId": "9356756b-b492-4f31-dfff-b4f2359ffe75"
      },
      "outputs": [
        {
          "output_type": "display_data",
          "data": {
            "text/plain": [
              "model.safetensors:   0%|          | 0.00/436M [00:00<?, ?B/s]"
            ],
            "application/vnd.jupyter.widget-view+json": {
              "version_major": 2,
              "version_minor": 0,
              "model_id": "eac0304a8a194ef8a48bf38d46c879e2"
            }
          },
          "metadata": {}
        }
      ],
      "source": [
        "# ==================================\n",
        "# 4. DEFINICIÓN DEL MODELO BERT\n",
        "# ==================================\n",
        "class SentimentClassifier(nn.Module):\n",
        "    \"\"\"\n",
        "    Modelo de clasificación que usa un modelo BERT pre-entrenado\n",
        "    y añade una capa de salida para la clasificación de sentimientos.\n",
        "    \"\"\"\n",
        "    def __init__(self, n_classes):\n",
        "        super(SentimentClassifier, self).__init__()\n",
        "        self.bert = BertModel.from_pretrained(PRE_TRAINED_MODEL_NAME)\n",
        "        self.drop = nn.Dropout(p=0.3) # Dropout para regularización\n",
        "        self.out = nn.Linear(self.bert.config.hidden_size, n_classes)\n",
        "\n",
        "    def forward(self, input_ids, attention_mask):\n",
        "        outputs = self.bert(\n",
        "            input_ids=input_ids,\n",
        "            attention_mask=attention_mask,\n",
        "            return_dict=False\n",
        "        )\n",
        "        # Usamos la salida 'pooled_output' que representa el sentimiento de toda la secuencia\n",
        "        pooled_output = outputs[1]\n",
        "        output = self.drop(pooled_output)\n",
        "        return self.out(output)\n",
        "\n",
        "model = SentimentClassifier(N_CLASSES)\n",
        "model = model.to(device)"
      ]
    },
    {
      "cell_type": "code",
      "source": [
        "#Class weights opcionales\n",
        "import numpy as np\n",
        "from sklearn.utils.class_weight import compute_class_weight\n",
        "\n",
        "USE_CLASS_WEIGHTS = True  # pon False si no quieres usarlos\n",
        "\n",
        "if USE_CLASS_WEIGHTS:\n",
        "    # y: como array 1D\n",
        "    y_train = df_train['label'].to_numpy()  # equivalente a .values\n",
        "\n",
        "    # classes: como numpy array ordenado y sin duplicados\n",
        "    classes = np.unique(y_train)  # p.ej. array([0, 1, 2])\n",
        "    # (si quieres forzar dtype: classes = np.asarray(sorted(classes), dtype=np.int64))\n",
        "\n",
        "    cw = compute_class_weight(\n",
        "        class_weight='balanced',\n",
        "        classes=classes,\n",
        "        y=y_train\n",
        "    )\n",
        "    class_weights_tensor = torch.tensor(cw, dtype=torch.float, device=device)\n",
        "    loss_fn = nn.CrossEntropyLoss(weight=class_weights_tensor).to(device)\n",
        "else:\n",
        "    loss_fn = nn.CrossEntropyLoss().to(device)\n",
        "\n"
      ],
      "metadata": {
        "id": "hycviLHeRT31"
      },
      "execution_count": null,
      "outputs": []
    },
    {
      "cell_type": "code",
      "execution_count": null,
      "metadata": {
        "id": "NfVnC7dhZwSW"
      },
      "outputs": [],
      "source": [
        "# ==================================\n",
        "# 5. LÓGICA DE ENTRENAMIENTO Y EVALUACIÓN\n",
        "# ==================================\n",
        "from transformers import get_linear_schedule_with_warmup\n",
        "from torch.optim import AdamW\n",
        "\n",
        "# AdamW + weight decay más fuerte\n",
        "optimizer = AdamW(model.parameters(), lr=2e-5, weight_decay=1e-2)\n",
        "\n",
        "total_steps = len(train_data_loader) * EPOCHS\n",
        "num_warmup_steps = int(0.1 * total_steps)  # 10%\n",
        "\n",
        "scheduler = get_linear_schedule_with_warmup(\n",
        "    optimizer,\n",
        "    num_warmup_steps=num_warmup_steps,\n",
        "    num_training_steps=total_steps\n",
        ")\n",
        "\n",
        "from sklearn.metrics import f1_score\n",
        "\n",
        "def train_epoch(model, data_loader, loss_fn, optimizer, device, scheduler, n_examples):\n",
        "    model.train()\n",
        "    losses, all_preds, all_labels = [], [], []\n",
        "    correct_predictions = 0\n",
        "\n",
        "    for d in data_loader:\n",
        "        input_ids = d[\"input_ids\"].to(device)\n",
        "        attention_mask = d[\"attention_mask\"].to(device)\n",
        "        labels = d[\"label\"].to(device)\n",
        "\n",
        "        outputs = model(input_ids=input_ids, attention_mask=attention_mask)\n",
        "        _, preds = torch.max(outputs, dim=1)\n",
        "        loss = loss_fn(outputs, labels)\n",
        "\n",
        "        correct_predictions += torch.sum(preds == labels)\n",
        "        losses.append(loss.item())\n",
        "        all_preds.extend(preds.detach().cpu().tolist())\n",
        "        all_labels.extend(labels.detach().cpu().tolist())\n",
        "\n",
        "        loss.backward()\n",
        "        nn.utils.clip_grad_norm_(model.parameters(), max_norm=1.0)\n",
        "        optimizer.step()\n",
        "        scheduler.step()\n",
        "        optimizer.zero_grad()\n",
        "\n",
        "    acc = correct_predictions.double() / n_examples\n",
        "    f1 = f1_score(all_labels, all_preds, average='macro')\n",
        "    return acc, np.mean(losses), f1\n",
        "\n",
        "@torch.no_grad()\n",
        "def eval_epoch(model, data_loader, loss_fn, device, n_examples):\n",
        "    model.eval()\n",
        "    losses, all_preds, all_labels = [], [], []\n",
        "    correct_predictions = 0\n",
        "\n",
        "    for d in data_loader:\n",
        "        input_ids = d[\"input_ids\"].to(device)\n",
        "        attention_mask = d[\"attention_mask\"].to(device)\n",
        "        labels = d[\"label\"].to(device)\n",
        "\n",
        "        outputs = model(input_ids=input_ids, attention_mask=attention_mask)\n",
        "        _, preds = torch.max(outputs, dim=1)\n",
        "        loss = loss_fn(outputs, labels)\n",
        "\n",
        "        correct_predictions += torch.sum(preds == labels)\n",
        "        losses.append(loss.item())\n",
        "        all_preds.extend(preds.detach().cpu().tolist())\n",
        "        all_labels.extend(labels.detach().cpu().tolist())\n",
        "\n",
        "    acc = correct_predictions.double() / n_examples\n",
        "    f1 = f1_score(all_labels, all_preds, average='macro')\n",
        "    return acc, np.mean(losses), f1, np.array(all_labels), np.array(all_preds)\n"
      ]
    },
    {
      "cell_type": "code",
      "execution_count": null,
      "metadata": {
        "colab": {
          "base_uri": "https://localhost:8080/"
        },
        "id": "sSY2LPiVbR7e",
        "outputId": "17def5e3-3979-4148-e312-cc0c5f54ac1c"
      },
      "outputs": [
        {
          "output_type": "stream",
          "name": "stdout",
          "text": [
            "\n",
            "Iniciando entrenamiento con Early Stopping (F1 macro)...\n",
            "\n",
            "Epoch 1/5\n",
            "------------------------------\n",
            "Train   | Loss: 0.7169  Acc: 0.6807  F1: 0.6336\n",
            "Val     | Loss: 0.5481    Acc: 0.8204    F1: 0.7789\n",
            "✅ Mejor modelo guardado (Val F1: 0.7789)\n",
            "\n",
            "Epoch 2/5\n",
            "------------------------------\n",
            "Train   | Loss: 0.4086  Acc: 0.8660  F1: 0.8374\n",
            "Val     | Loss: 0.5855    Acc: 0.8210    F1: 0.7840\n",
            "✅ Mejor modelo guardado (Val F1: 0.7840)\n",
            "\n",
            "Epoch 3/5\n",
            "------------------------------\n",
            "Train   | Loss: 0.2484  Acc: 0.9264  F1: 0.9104\n",
            "Val     | Loss: 0.7744    Acc: 0.8163    F1: 0.7773\n",
            "No mejora en F1. Paciencia: 1/2\n",
            "\n",
            "Epoch 4/5\n",
            "------------------------------\n",
            "Train   | Loss: 0.1635  Acc: 0.9617  F1: 0.9521\n",
            "Val     | Loss: 1.0540    Acc: 0.8361    F1: 0.7946\n",
            "✅ Mejor modelo guardado (Val F1: 0.7946)\n",
            "\n",
            "Epoch 5/5\n",
            "------------------------------\n",
            "Train   | Loss: 0.1057  Acc: 0.9758  F1: 0.9693\n",
            "Val     | Loss: 1.1296    Acc: 0.8415    F1: 0.7979\n",
            "✅ Mejor modelo guardado (Val F1: 0.7979)\n",
            "\n",
            "Cargando el mejor modelo según F1 macro de validación...\n",
            "\n",
            "TEST | Loss: 1.1639  Acc: 0.8299  F1: 0.7802\n",
            "\n",
            "Classification report (test):\n",
            "              precision    recall  f1-score   support\n",
            "\n",
            "           0     0.9072    0.8943    0.9007       918\n",
            "           1     0.6565    0.6968    0.6761       310\n",
            "           2     0.7739    0.7542    0.7639       236\n",
            "\n",
            "    accuracy                         0.8299      1464\n",
            "   macro avg     0.7792    0.7818    0.7802      1464\n",
            "weighted avg     0.8326    0.8299    0.8311      1464\n",
            "\n",
            "Matriz de confusión (test):\n",
            "[[821  77  20]\n",
            " [ 62 216  32]\n",
            " [ 22  36 178]]\n"
          ]
        }
      ],
      "source": [
        "# --- Bucle de entrenamiento con Early Stopping ---\n",
        "print(\"\\nIniciando entrenamiento con Early Stopping (F1 macro)...\")\n",
        "\n",
        "best_val_f1 = 0.0\n",
        "patience = 2\n",
        "epochs_no_improve = 0\n",
        "best_model_path = 'best_model_state.bin'\n",
        "\n",
        "for epoch in range(EPOCHS):\n",
        "    print(f'\\nEpoch {epoch + 1}/{EPOCHS}')\n",
        "    print('-' * 30)\n",
        "\n",
        "    train_acc, train_loss, train_f1 = train_epoch(\n",
        "        model, train_data_loader, loss_fn, optimizer, device, scheduler, len(df_train)\n",
        "    )\n",
        "    val_acc, val_loss, val_f1, y_val, y_pred_val = eval_epoch(\n",
        "        model, val_data_loader, loss_fn, device, len(df_val)\n",
        "    )\n",
        "\n",
        "    print(f'Train   | Loss: {train_loss:.4f}  Acc: {train_acc:.4f}  F1: {train_f1:.4f}')\n",
        "    print(f'Val     | Loss: {val_loss:.4f}    Acc: {val_acc:.4f}    F1: {val_f1:.4f}')\n",
        "\n",
        "    if val_f1 > best_val_f1:\n",
        "        best_val_f1 = val_f1\n",
        "        torch.save(model.state_dict(), best_model_path)\n",
        "        epochs_no_improve = 0\n",
        "        print(f'✅ Mejor modelo guardado (Val F1: {best_val_f1:.4f})')\n",
        "    else:\n",
        "        epochs_no_improve += 1\n",
        "        print(f'No mejora en F1. Paciencia: {epochs_no_improve}/{patience}')\n",
        "        if epochs_no_improve >= patience:\n",
        "            print('⏹️ Early stopping activado.')\n",
        "            break\n",
        "\n",
        "print(\"\\nCargando el mejor modelo según F1 macro de validación...\")\n",
        "model.load_state_dict(torch.load(best_model_path, map_location=device))\n",
        "model.to(device)\n",
        "\n",
        "#Evaluación final en test\n",
        "\n",
        "test_acc, test_loss, test_f1, y_test, y_pred_test = eval_epoch(\n",
        "    model, test_data_loader, loss_fn, device, len(df_test)\n",
        ")\n",
        "print(f\"\\nTEST | Loss: {test_loss:.4f}  Acc: {test_acc:.4f}  F1: {test_f1:.4f}\")\n",
        "\n",
        "print(\"\\nClassification report (test):\")\n",
        "print(classification_report(y_test, y_pred_test, digits=4))\n",
        "\n",
        "print(\"Matriz de confusión (test):\")\n",
        "print(confusion_matrix(y_test, y_pred_test))"
      ]
    },
    {
      "cell_type": "code",
      "execution_count": null,
      "metadata": {
        "id": "1xUfOGAVe1Hx"
      },
      "outputs": [],
      "source": [
        "# ==================================\n",
        "# 6. PREDICCIÓN CON NUEVO TEXTO\n",
        "# ==================================\n",
        "def classify_sentiment(text, model, tokenizer, device, max_len=160):\n",
        "    model = model.eval()\n",
        "    cleaned_text = clean_tweet(text)\n",
        "\n",
        "    encoding_review = tokenizer.encode_plus(\n",
        "        cleaned_text,\n",
        "        add_special_tokens=True,\n",
        "        max_length= MAX_LEN,\n",
        "        return_token_type_ids=False,\n",
        "        padding='max_length',\n",
        "        truncation=True,\n",
        "        return_attention_mask=True,\n",
        "        return_tensors='pt',\n",
        "    )\n",
        "\n",
        "    input_ids = encoding_review['input_ids'].to(device)\n",
        "    attention_mask = encoding_review['attention_mask'].to(device)\n",
        "\n",
        "    with torch.no_grad():\n",
        "        outputs = model(input_ids=input_ids, attention_mask=attention_mask)\n",
        "        _, preds = torch.max(outputs, dim=1)\n",
        "\n",
        "    # Mapear la predicción numérica de nuevo a la etiqueta de sentimiento\n",
        "    # Creamos un mapeo inverso\n",
        "    id_to_sentiment = {v: k for k, v in sentiment_map.items()}\n",
        "    predicted_sentiment = id_to_sentiment[preds.item()]\n",
        "\n",
        "    return predicted_sentiment"
      ]
    },
    {
      "cell_type": "code",
      "source": [
        "# # === Guardar oficialmente modelo + tokenizer para despliegue ===\n",
        "from pathlib import Path\n",
        "from transformers import BertConfig, BertForSequenceClassification\n",
        "\n",
        "# 1️⃣  Carpeta destino\n",
        "MODEL_DIR = Path(\"sentiment_model_full_offline\")\n",
        "MODEL_DIR.mkdir(exist_ok=True)\n",
        "\n",
        "# 2️⃣  Usa el config que YA está en tu modelo entrenado\n",
        "config = model.bert.config            # ← viene del modelo que afinaste\n",
        "config.num_labels = 3                 # asegúrate de que refleje tus clases\n",
        "\n",
        "# 3️⃣  Crea el contenedor VACÍO (pesos aleatorios) sin descargar nada\n",
        "hf_model = BertForSequenceClassification(config)   # no hay acceso a la red\n",
        "\n",
        "# 4️⃣  Copia tus pesos entrenados\n",
        "hf_model.bert.load_state_dict(model.bert.state_dict())          # encoder\n",
        "hf_model.classifier.weight.data = model.out.weight.data.clone() # capa cls\n",
        "hf_model.classifier.bias.data  = model.out.bias.data.clone()\n",
        "\n",
        "# 5️⃣  Guarda todo (pesos + config) junto con el tokenizer\n",
        "hf_model.save_pretrained(MODEL_DIR)     # escribe config.json + pytorch_model.bin\n",
        "tokenizer.save_pretrained(MODEL_DIR)    # escribe vocab.txt, tokenizer.json, …\n",
        "\n",
        "print(\"✅ Paquete listo en:\", MODEL_DIR.resolve())\n"
      ],
      "metadata": {
        "colab": {
          "base_uri": "https://localhost:8080/"
        },
        "id": "z19yAZhN6IMU",
        "outputId": "bb22f643-022b-4985-a337-4ef561d59944"
      },
      "execution_count": null,
      "outputs": [
        {
          "output_type": "stream",
          "name": "stdout",
          "text": [
            "✅ Paquete listo en: /content/sentiment_model_full_offline\n"
          ]
        }
      ]
    },
    {
      "cell_type": "code",
      "source": [
        "from transformers import AutoTokenizer, AutoModelForSequenceClassification\n",
        "tokenizer_test = AutoTokenizer.from_pretrained(\"sentiment_model_full_offline\")\n",
        "model_test     = AutoModelForSequenceClassification.from_pretrained(\"sentiment_model_full_offline\").eval()\n",
        "\n",
        "print(\"✔️  Se cargó sin re-entrenar\")\n"
      ],
      "metadata": {
        "id": "aWZfvd5rz-E2",
        "outputId": "eb2a97db-73e7-496c-81e3-ed98957c8ec7",
        "colab": {
          "base_uri": "https://localhost:8080/"
        }
      },
      "execution_count": null,
      "outputs": [
        {
          "output_type": "stream",
          "name": "stdout",
          "text": [
            "✔️  Se cargó sin re-entrenar\n"
          ]
        }
      ]
    },
    {
      "cell_type": "code",
      "source": [
        "#Comprueba que la carpeta está realmente allí\n",
        "!ls -R"
      ],
      "metadata": {
        "colab": {
          "base_uri": "https://localhost:8080/"
        },
        "id": "2RGTX_IiQRP5",
        "outputId": "0a6eb63d-4990-4eb6-df6a-c52acd6b886d"
      },
      "execution_count": null,
      "outputs": [
        {
          "output_type": "stream",
          "name": "stdout",
          "text": [
            ".:\n",
            "best_model_state.bin  sample_data  sentiment_model_full_offline\n",
            "\n",
            "./sample_data:\n",
            "anscombe.json\t\t      mnist_test.csv\n",
            "california_housing_test.csv   mnist_train_small.csv\n",
            "california_housing_train.csv  README.md\n",
            "\n",
            "./sentiment_model_full_offline:\n",
            "config.json\t   special_tokens_map.json  vocab.txt\n",
            "model.safetensors  tokenizer_config.json\n"
          ]
        }
      ]
    },
    {
      "cell_type": "code",
      "source": [
        "#Comprime la carpeta\n",
        "!zip -r sentiment_model_full_offline.zip sentiment_model_full_offline"
      ],
      "metadata": {
        "colab": {
          "base_uri": "https://localhost:8080/"
        },
        "id": "zgkFiot5QZKQ",
        "outputId": "be611661-2071-4b65-e013-4642e1d7a8db"
      },
      "execution_count": null,
      "outputs": [
        {
          "output_type": "stream",
          "name": "stdout",
          "text": [
            "  adding: sentiment_model_full_offline/ (stored 0%)\n",
            "  adding: sentiment_model_full_offline/config.json (deflated 51%)\n",
            "  adding: sentiment_model_full_offline/model.safetensors (deflated 7%)\n",
            "  adding: sentiment_model_full_offline/vocab.txt (deflated 49%)\n",
            "  adding: sentiment_model_full_offline/tokenizer_config.json (deflated 75%)\n",
            "  adding: sentiment_model_full_offline/special_tokens_map.json (deflated 42%)\n"
          ]
        }
      ]
    },
    {
      "cell_type": "code",
      "source": [
        "#Descarga el .zip al disco de tu computadora\n",
        "from google.colab import files\n",
        "files.download('sentiment_model_full_offline.zip')\n"
      ],
      "metadata": {
        "id": "beQ8jJUaQoq1",
        "colab": {
          "base_uri": "https://localhost:8080/",
          "height": 34
        },
        "outputId": "1f6bc188-57ca-468a-afe6-efdbd87bab11"
      },
      "execution_count": null,
      "outputs": [
        {
          "output_type": "display_data",
          "data": {
            "text/plain": [
              "<IPython.core.display.Javascript object>"
            ],
            "application/javascript": [
              "\n",
              "    async function download(id, filename, size) {\n",
              "      if (!google.colab.kernel.accessAllowed) {\n",
              "        return;\n",
              "      }\n",
              "      const div = document.createElement('div');\n",
              "      const label = document.createElement('label');\n",
              "      label.textContent = `Downloading \"${filename}\": `;\n",
              "      div.appendChild(label);\n",
              "      const progress = document.createElement('progress');\n",
              "      progress.max = size;\n",
              "      div.appendChild(progress);\n",
              "      document.body.appendChild(div);\n",
              "\n",
              "      const buffers = [];\n",
              "      let downloaded = 0;\n",
              "\n",
              "      const channel = await google.colab.kernel.comms.open(id);\n",
              "      // Send a message to notify the kernel that we're ready.\n",
              "      channel.send({})\n",
              "\n",
              "      for await (const message of channel.messages) {\n",
              "        // Send a message to notify the kernel that we're ready.\n",
              "        channel.send({})\n",
              "        if (message.buffers) {\n",
              "          for (const buffer of message.buffers) {\n",
              "            buffers.push(buffer);\n",
              "            downloaded += buffer.byteLength;\n",
              "            progress.value = downloaded;\n",
              "          }\n",
              "        }\n",
              "      }\n",
              "      const blob = new Blob(buffers, {type: 'application/binary'});\n",
              "      const a = document.createElement('a');\n",
              "      a.href = window.URL.createObjectURL(blob);\n",
              "      a.download = filename;\n",
              "      div.appendChild(a);\n",
              "      a.click();\n",
              "      div.remove();\n",
              "    }\n",
              "  "
            ]
          },
          "metadata": {}
        },
        {
          "output_type": "display_data",
          "data": {
            "text/plain": [
              "<IPython.core.display.Javascript object>"
            ],
            "application/javascript": [
              "download(\"download_6f72b7e1-353e-4916-80cd-d56dd593e809\", \"sentiment_model_full_offline.zip\", 401920078)"
            ]
          },
          "metadata": {}
        }
      ]
    },
    {
      "cell_type": "code",
      "execution_count": null,
      "metadata": {
        "id": "A130Qcqmk8kT"
      },
      "outputs": [],
      "source": [
        "# # Ejemplo de uso:\n",
        "# text_to_classify = \"Just took a flight with United Airlines.\"\n",
        "# predicted_sentiment = classify_sentiment(text_to_classify, model, tokenizer, device)\n",
        "# print(f\"The feeling of the text is: {predicted_sentiment}\")"
      ]
    },
    {
      "cell_type": "code",
      "execution_count": null,
      "metadata": {
        "id": "3046d9ff"
      },
      "outputs": [],
      "source": [
        "# # Ejemplo de uso:\n",
        "# import pandas as pd\n",
        "\n",
        "# # Cargar el nuevo dataset\n",
        "# new_df = pd.read_csv(\"/content/jetblue.csv\")\n",
        "\n",
        "# # Asegurarnos de que la columna 'clean_title' existe y limpiarla\n",
        "# if 'clean_title' in new_df.columns:\n",
        "#     print(\"Limpiando la columna 'clean_title' del nuevo dataset...\")\n",
        "#     new_df['clean_title'] = new_df['clean_title'].apply(clean_tweet)\n",
        "# else:\n",
        "#     print(\"Error: La columna 'clean_title' no se encontró en el nuevo dataset.\")\n",
        "#     # Puedes manejar este error de otra manera si es necesario, por ejemplo, detener la ejecución o usar otra columna.\n",
        "#     # Por ahora, simplemente salimos si la columna no existe.\n",
        "#     exit()\n",
        "\n",
        "# # Aplicar el modelo para predecir el sentimiento de cada entrada\n",
        "# print(\"Clasificando sentimientos en el nuevo dataset...\")\n",
        "# new_df['predicted_sentiment'] = new_df['clean_title'].apply(\n",
        "#     lambda x: classify_sentiment(x, model, tokenizer, device, MAX_LEN)\n",
        "# )\n",
        "\n",
        "# # Calcular el porcentaje de cada sentimiento, incluyendo los que tienen 0%\n",
        "# total_count = new_df.shape[0]\n",
        "# if total_count > 0:\n",
        "#     sentiment_counts = new_df['predicted_sentiment'].value_counts().reindex(['negative', 'neutral', 'positive'], fill_value=0)\n",
        "#     print(\"\\nPorcentaje de sentimientos en la columna 'clean_title':\")\n",
        "#     for sentiment, count in sentiment_counts.items():\n",
        "#         percentage = (count / total_count) * 100\n",
        "#         print(f\"  {sentiment}: {percentage:.2f}%\")\n",
        "# else:\n",
        "#     print(\"\\nEl nuevo dataset está vacío, no se pueden calcular porcentajes.\")\n",
        "\n",
        "\n",
        "# # Opcional: Mostrar las primeras filas con las predicciones\n",
        "# display(new_df.head())"
      ]
    }
  ],
  "metadata": {
    "accelerator": "GPU",
    "colab": {
      "gpuType": "T4",
      "provenance": []
    },
    "kernelspec": {
      "display_name": "Python 3",
      "name": "python3"
    },
    "widgets": {
      "application/vnd.jupyter.widget-state+json": {
        "69e5271fd3144ce4b9be5c537a103146": {
          "model_module": "@jupyter-widgets/controls",
          "model_name": "HBoxModel",
          "model_module_version": "1.5.0",
          "state": {
            "_dom_classes": [],
            "_model_module": "@jupyter-widgets/controls",
            "_model_module_version": "1.5.0",
            "_model_name": "HBoxModel",
            "_view_count": null,
            "_view_module": "@jupyter-widgets/controls",
            "_view_module_version": "1.5.0",
            "_view_name": "HBoxView",
            "box_style": "",
            "children": [
              "IPY_MODEL_e4c05b311c34456f9ce90bb849305660",
              "IPY_MODEL_207ac2e5a5eb4815a7a89dfd03101689",
              "IPY_MODEL_efb08aa488f344368b8ad7cd4bfad33e"
            ],
            "layout": "IPY_MODEL_3b0520b2513a4828a19d37879b238033"
          }
        },
        "e4c05b311c34456f9ce90bb849305660": {
          "model_module": "@jupyter-widgets/controls",
          "model_name": "HTMLModel",
          "model_module_version": "1.5.0",
          "state": {
            "_dom_classes": [],
            "_model_module": "@jupyter-widgets/controls",
            "_model_module_version": "1.5.0",
            "_model_name": "HTMLModel",
            "_view_count": null,
            "_view_module": "@jupyter-widgets/controls",
            "_view_module_version": "1.5.0",
            "_view_name": "HTMLView",
            "description": "",
            "description_tooltip": null,
            "layout": "IPY_MODEL_1ba5bfa73ee8442d8ce53da9e73cdd53",
            "placeholder": "​",
            "style": "IPY_MODEL_b72343eb706646d8bcc42ea35dfbd7fc",
            "value": "tokenizer_config.json: 100%"
          }
        },
        "207ac2e5a5eb4815a7a89dfd03101689": {
          "model_module": "@jupyter-widgets/controls",
          "model_name": "FloatProgressModel",
          "model_module_version": "1.5.0",
          "state": {
            "_dom_classes": [],
            "_model_module": "@jupyter-widgets/controls",
            "_model_module_version": "1.5.0",
            "_model_name": "FloatProgressModel",
            "_view_count": null,
            "_view_module": "@jupyter-widgets/controls",
            "_view_module_version": "1.5.0",
            "_view_name": "ProgressView",
            "bar_style": "success",
            "description": "",
            "description_tooltip": null,
            "layout": "IPY_MODEL_1badd695198a4753bfe6e7e31b2d846d",
            "max": 49,
            "min": 0,
            "orientation": "horizontal",
            "style": "IPY_MODEL_2dc5506489c84fdc975cb1da28a0c35c",
            "value": 49
          }
        },
        "efb08aa488f344368b8ad7cd4bfad33e": {
          "model_module": "@jupyter-widgets/controls",
          "model_name": "HTMLModel",
          "model_module_version": "1.5.0",
          "state": {
            "_dom_classes": [],
            "_model_module": "@jupyter-widgets/controls",
            "_model_module_version": "1.5.0",
            "_model_name": "HTMLModel",
            "_view_count": null,
            "_view_module": "@jupyter-widgets/controls",
            "_view_module_version": "1.5.0",
            "_view_name": "HTMLView",
            "description": "",
            "description_tooltip": null,
            "layout": "IPY_MODEL_a7b43a81dc7b4c74877d7cdbf989aef2",
            "placeholder": "​",
            "style": "IPY_MODEL_47d8d5e594594d09bf4eab280a839533",
            "value": " 49.0/49.0 [00:00&lt;00:00, 1.11kB/s]"
          }
        },
        "3b0520b2513a4828a19d37879b238033": {
          "model_module": "@jupyter-widgets/base",
          "model_name": "LayoutModel",
          "model_module_version": "1.2.0",
          "state": {
            "_model_module": "@jupyter-widgets/base",
            "_model_module_version": "1.2.0",
            "_model_name": "LayoutModel",
            "_view_count": null,
            "_view_module": "@jupyter-widgets/base",
            "_view_module_version": "1.2.0",
            "_view_name": "LayoutView",
            "align_content": null,
            "align_items": null,
            "align_self": null,
            "border": null,
            "bottom": null,
            "display": null,
            "flex": null,
            "flex_flow": null,
            "grid_area": null,
            "grid_auto_columns": null,
            "grid_auto_flow": null,
            "grid_auto_rows": null,
            "grid_column": null,
            "grid_gap": null,
            "grid_row": null,
            "grid_template_areas": null,
            "grid_template_columns": null,
            "grid_template_rows": null,
            "height": null,
            "justify_content": null,
            "justify_items": null,
            "left": null,
            "margin": null,
            "max_height": null,
            "max_width": null,
            "min_height": null,
            "min_width": null,
            "object_fit": null,
            "object_position": null,
            "order": null,
            "overflow": null,
            "overflow_x": null,
            "overflow_y": null,
            "padding": null,
            "right": null,
            "top": null,
            "visibility": null,
            "width": null
          }
        },
        "1ba5bfa73ee8442d8ce53da9e73cdd53": {
          "model_module": "@jupyter-widgets/base",
          "model_name": "LayoutModel",
          "model_module_version": "1.2.0",
          "state": {
            "_model_module": "@jupyter-widgets/base",
            "_model_module_version": "1.2.0",
            "_model_name": "LayoutModel",
            "_view_count": null,
            "_view_module": "@jupyter-widgets/base",
            "_view_module_version": "1.2.0",
            "_view_name": "LayoutView",
            "align_content": null,
            "align_items": null,
            "align_self": null,
            "border": null,
            "bottom": null,
            "display": null,
            "flex": null,
            "flex_flow": null,
            "grid_area": null,
            "grid_auto_columns": null,
            "grid_auto_flow": null,
            "grid_auto_rows": null,
            "grid_column": null,
            "grid_gap": null,
            "grid_row": null,
            "grid_template_areas": null,
            "grid_template_columns": null,
            "grid_template_rows": null,
            "height": null,
            "justify_content": null,
            "justify_items": null,
            "left": null,
            "margin": null,
            "max_height": null,
            "max_width": null,
            "min_height": null,
            "min_width": null,
            "object_fit": null,
            "object_position": null,
            "order": null,
            "overflow": null,
            "overflow_x": null,
            "overflow_y": null,
            "padding": null,
            "right": null,
            "top": null,
            "visibility": null,
            "width": null
          }
        },
        "b72343eb706646d8bcc42ea35dfbd7fc": {
          "model_module": "@jupyter-widgets/controls",
          "model_name": "DescriptionStyleModel",
          "model_module_version": "1.5.0",
          "state": {
            "_model_module": "@jupyter-widgets/controls",
            "_model_module_version": "1.5.0",
            "_model_name": "DescriptionStyleModel",
            "_view_count": null,
            "_view_module": "@jupyter-widgets/base",
            "_view_module_version": "1.2.0",
            "_view_name": "StyleView",
            "description_width": ""
          }
        },
        "1badd695198a4753bfe6e7e31b2d846d": {
          "model_module": "@jupyter-widgets/base",
          "model_name": "LayoutModel",
          "model_module_version": "1.2.0",
          "state": {
            "_model_module": "@jupyter-widgets/base",
            "_model_module_version": "1.2.0",
            "_model_name": "LayoutModel",
            "_view_count": null,
            "_view_module": "@jupyter-widgets/base",
            "_view_module_version": "1.2.0",
            "_view_name": "LayoutView",
            "align_content": null,
            "align_items": null,
            "align_self": null,
            "border": null,
            "bottom": null,
            "display": null,
            "flex": null,
            "flex_flow": null,
            "grid_area": null,
            "grid_auto_columns": null,
            "grid_auto_flow": null,
            "grid_auto_rows": null,
            "grid_column": null,
            "grid_gap": null,
            "grid_row": null,
            "grid_template_areas": null,
            "grid_template_columns": null,
            "grid_template_rows": null,
            "height": null,
            "justify_content": null,
            "justify_items": null,
            "left": null,
            "margin": null,
            "max_height": null,
            "max_width": null,
            "min_height": null,
            "min_width": null,
            "object_fit": null,
            "object_position": null,
            "order": null,
            "overflow": null,
            "overflow_x": null,
            "overflow_y": null,
            "padding": null,
            "right": null,
            "top": null,
            "visibility": null,
            "width": null
          }
        },
        "2dc5506489c84fdc975cb1da28a0c35c": {
          "model_module": "@jupyter-widgets/controls",
          "model_name": "ProgressStyleModel",
          "model_module_version": "1.5.0",
          "state": {
            "_model_module": "@jupyter-widgets/controls",
            "_model_module_version": "1.5.0",
            "_model_name": "ProgressStyleModel",
            "_view_count": null,
            "_view_module": "@jupyter-widgets/base",
            "_view_module_version": "1.2.0",
            "_view_name": "StyleView",
            "bar_color": null,
            "description_width": ""
          }
        },
        "a7b43a81dc7b4c74877d7cdbf989aef2": {
          "model_module": "@jupyter-widgets/base",
          "model_name": "LayoutModel",
          "model_module_version": "1.2.0",
          "state": {
            "_model_module": "@jupyter-widgets/base",
            "_model_module_version": "1.2.0",
            "_model_name": "LayoutModel",
            "_view_count": null,
            "_view_module": "@jupyter-widgets/base",
            "_view_module_version": "1.2.0",
            "_view_name": "LayoutView",
            "align_content": null,
            "align_items": null,
            "align_self": null,
            "border": null,
            "bottom": null,
            "display": null,
            "flex": null,
            "flex_flow": null,
            "grid_area": null,
            "grid_auto_columns": null,
            "grid_auto_flow": null,
            "grid_auto_rows": null,
            "grid_column": null,
            "grid_gap": null,
            "grid_row": null,
            "grid_template_areas": null,
            "grid_template_columns": null,
            "grid_template_rows": null,
            "height": null,
            "justify_content": null,
            "justify_items": null,
            "left": null,
            "margin": null,
            "max_height": null,
            "max_width": null,
            "min_height": null,
            "min_width": null,
            "object_fit": null,
            "object_position": null,
            "order": null,
            "overflow": null,
            "overflow_x": null,
            "overflow_y": null,
            "padding": null,
            "right": null,
            "top": null,
            "visibility": null,
            "width": null
          }
        },
        "47d8d5e594594d09bf4eab280a839533": {
          "model_module": "@jupyter-widgets/controls",
          "model_name": "DescriptionStyleModel",
          "model_module_version": "1.5.0",
          "state": {
            "_model_module": "@jupyter-widgets/controls",
            "_model_module_version": "1.5.0",
            "_model_name": "DescriptionStyleModel",
            "_view_count": null,
            "_view_module": "@jupyter-widgets/base",
            "_view_module_version": "1.2.0",
            "_view_name": "StyleView",
            "description_width": ""
          }
        },
        "6587a9dfab6847ad8a227e0b6a3972e3": {
          "model_module": "@jupyter-widgets/controls",
          "model_name": "HBoxModel",
          "model_module_version": "1.5.0",
          "state": {
            "_dom_classes": [],
            "_model_module": "@jupyter-widgets/controls",
            "_model_module_version": "1.5.0",
            "_model_name": "HBoxModel",
            "_view_count": null,
            "_view_module": "@jupyter-widgets/controls",
            "_view_module_version": "1.5.0",
            "_view_name": "HBoxView",
            "box_style": "",
            "children": [
              "IPY_MODEL_c20ad179116e4d21a4b53cc06d0d234c",
              "IPY_MODEL_a0e54bb1f16949189d95f946c63d2834",
              "IPY_MODEL_42c6db29b3794ba7a07aac13967a9b08"
            ],
            "layout": "IPY_MODEL_af638b9c8e2d4736b7229f3bb9eaa49a"
          }
        },
        "c20ad179116e4d21a4b53cc06d0d234c": {
          "model_module": "@jupyter-widgets/controls",
          "model_name": "HTMLModel",
          "model_module_version": "1.5.0",
          "state": {
            "_dom_classes": [],
            "_model_module": "@jupyter-widgets/controls",
            "_model_module_version": "1.5.0",
            "_model_name": "HTMLModel",
            "_view_count": null,
            "_view_module": "@jupyter-widgets/controls",
            "_view_module_version": "1.5.0",
            "_view_name": "HTMLView",
            "description": "",
            "description_tooltip": null,
            "layout": "IPY_MODEL_39a57ae5a5f1406fb06a56fd4a5ce64c",
            "placeholder": "​",
            "style": "IPY_MODEL_aa9b72ffab6d475493177ece7a50e45e",
            "value": "vocab.txt: 100%"
          }
        },
        "a0e54bb1f16949189d95f946c63d2834": {
          "model_module": "@jupyter-widgets/controls",
          "model_name": "FloatProgressModel",
          "model_module_version": "1.5.0",
          "state": {
            "_dom_classes": [],
            "_model_module": "@jupyter-widgets/controls",
            "_model_module_version": "1.5.0",
            "_model_name": "FloatProgressModel",
            "_view_count": null,
            "_view_module": "@jupyter-widgets/controls",
            "_view_module_version": "1.5.0",
            "_view_name": "ProgressView",
            "bar_style": "success",
            "description": "",
            "description_tooltip": null,
            "layout": "IPY_MODEL_11f0b88da2f9412bac7c5e997054924c",
            "max": 213450,
            "min": 0,
            "orientation": "horizontal",
            "style": "IPY_MODEL_6befb5b8f5b04995a2a5057b429dfb6e",
            "value": 213450
          }
        },
        "42c6db29b3794ba7a07aac13967a9b08": {
          "model_module": "@jupyter-widgets/controls",
          "model_name": "HTMLModel",
          "model_module_version": "1.5.0",
          "state": {
            "_dom_classes": [],
            "_model_module": "@jupyter-widgets/controls",
            "_model_module_version": "1.5.0",
            "_model_name": "HTMLModel",
            "_view_count": null,
            "_view_module": "@jupyter-widgets/controls",
            "_view_module_version": "1.5.0",
            "_view_name": "HTMLView",
            "description": "",
            "description_tooltip": null,
            "layout": "IPY_MODEL_620e0bc2e431442b9862fd6af2990036",
            "placeholder": "​",
            "style": "IPY_MODEL_5998913fa6e44fa199ce8630fdc5c025",
            "value": " 213k/213k [00:00&lt;00:00, 1.51MB/s]"
          }
        },
        "af638b9c8e2d4736b7229f3bb9eaa49a": {
          "model_module": "@jupyter-widgets/base",
          "model_name": "LayoutModel",
          "model_module_version": "1.2.0",
          "state": {
            "_model_module": "@jupyter-widgets/base",
            "_model_module_version": "1.2.0",
            "_model_name": "LayoutModel",
            "_view_count": null,
            "_view_module": "@jupyter-widgets/base",
            "_view_module_version": "1.2.0",
            "_view_name": "LayoutView",
            "align_content": null,
            "align_items": null,
            "align_self": null,
            "border": null,
            "bottom": null,
            "display": null,
            "flex": null,
            "flex_flow": null,
            "grid_area": null,
            "grid_auto_columns": null,
            "grid_auto_flow": null,
            "grid_auto_rows": null,
            "grid_column": null,
            "grid_gap": null,
            "grid_row": null,
            "grid_template_areas": null,
            "grid_template_columns": null,
            "grid_template_rows": null,
            "height": null,
            "justify_content": null,
            "justify_items": null,
            "left": null,
            "margin": null,
            "max_height": null,
            "max_width": null,
            "min_height": null,
            "min_width": null,
            "object_fit": null,
            "object_position": null,
            "order": null,
            "overflow": null,
            "overflow_x": null,
            "overflow_y": null,
            "padding": null,
            "right": null,
            "top": null,
            "visibility": null,
            "width": null
          }
        },
        "39a57ae5a5f1406fb06a56fd4a5ce64c": {
          "model_module": "@jupyter-widgets/base",
          "model_name": "LayoutModel",
          "model_module_version": "1.2.0",
          "state": {
            "_model_module": "@jupyter-widgets/base",
            "_model_module_version": "1.2.0",
            "_model_name": "LayoutModel",
            "_view_count": null,
            "_view_module": "@jupyter-widgets/base",
            "_view_module_version": "1.2.0",
            "_view_name": "LayoutView",
            "align_content": null,
            "align_items": null,
            "align_self": null,
            "border": null,
            "bottom": null,
            "display": null,
            "flex": null,
            "flex_flow": null,
            "grid_area": null,
            "grid_auto_columns": null,
            "grid_auto_flow": null,
            "grid_auto_rows": null,
            "grid_column": null,
            "grid_gap": null,
            "grid_row": null,
            "grid_template_areas": null,
            "grid_template_columns": null,
            "grid_template_rows": null,
            "height": null,
            "justify_content": null,
            "justify_items": null,
            "left": null,
            "margin": null,
            "max_height": null,
            "max_width": null,
            "min_height": null,
            "min_width": null,
            "object_fit": null,
            "object_position": null,
            "order": null,
            "overflow": null,
            "overflow_x": null,
            "overflow_y": null,
            "padding": null,
            "right": null,
            "top": null,
            "visibility": null,
            "width": null
          }
        },
        "aa9b72ffab6d475493177ece7a50e45e": {
          "model_module": "@jupyter-widgets/controls",
          "model_name": "DescriptionStyleModel",
          "model_module_version": "1.5.0",
          "state": {
            "_model_module": "@jupyter-widgets/controls",
            "_model_module_version": "1.5.0",
            "_model_name": "DescriptionStyleModel",
            "_view_count": null,
            "_view_module": "@jupyter-widgets/base",
            "_view_module_version": "1.2.0",
            "_view_name": "StyleView",
            "description_width": ""
          }
        },
        "11f0b88da2f9412bac7c5e997054924c": {
          "model_module": "@jupyter-widgets/base",
          "model_name": "LayoutModel",
          "model_module_version": "1.2.0",
          "state": {
            "_model_module": "@jupyter-widgets/base",
            "_model_module_version": "1.2.0",
            "_model_name": "LayoutModel",
            "_view_count": null,
            "_view_module": "@jupyter-widgets/base",
            "_view_module_version": "1.2.0",
            "_view_name": "LayoutView",
            "align_content": null,
            "align_items": null,
            "align_self": null,
            "border": null,
            "bottom": null,
            "display": null,
            "flex": null,
            "flex_flow": null,
            "grid_area": null,
            "grid_auto_columns": null,
            "grid_auto_flow": null,
            "grid_auto_rows": null,
            "grid_column": null,
            "grid_gap": null,
            "grid_row": null,
            "grid_template_areas": null,
            "grid_template_columns": null,
            "grid_template_rows": null,
            "height": null,
            "justify_content": null,
            "justify_items": null,
            "left": null,
            "margin": null,
            "max_height": null,
            "max_width": null,
            "min_height": null,
            "min_width": null,
            "object_fit": null,
            "object_position": null,
            "order": null,
            "overflow": null,
            "overflow_x": null,
            "overflow_y": null,
            "padding": null,
            "right": null,
            "top": null,
            "visibility": null,
            "width": null
          }
        },
        "6befb5b8f5b04995a2a5057b429dfb6e": {
          "model_module": "@jupyter-widgets/controls",
          "model_name": "ProgressStyleModel",
          "model_module_version": "1.5.0",
          "state": {
            "_model_module": "@jupyter-widgets/controls",
            "_model_module_version": "1.5.0",
            "_model_name": "ProgressStyleModel",
            "_view_count": null,
            "_view_module": "@jupyter-widgets/base",
            "_view_module_version": "1.2.0",
            "_view_name": "StyleView",
            "bar_color": null,
            "description_width": ""
          }
        },
        "620e0bc2e431442b9862fd6af2990036": {
          "model_module": "@jupyter-widgets/base",
          "model_name": "LayoutModel",
          "model_module_version": "1.2.0",
          "state": {
            "_model_module": "@jupyter-widgets/base",
            "_model_module_version": "1.2.0",
            "_model_name": "LayoutModel",
            "_view_count": null,
            "_view_module": "@jupyter-widgets/base",
            "_view_module_version": "1.2.0",
            "_view_name": "LayoutView",
            "align_content": null,
            "align_items": null,
            "align_self": null,
            "border": null,
            "bottom": null,
            "display": null,
            "flex": null,
            "flex_flow": null,
            "grid_area": null,
            "grid_auto_columns": null,
            "grid_auto_flow": null,
            "grid_auto_rows": null,
            "grid_column": null,
            "grid_gap": null,
            "grid_row": null,
            "grid_template_areas": null,
            "grid_template_columns": null,
            "grid_template_rows": null,
            "height": null,
            "justify_content": null,
            "justify_items": null,
            "left": null,
            "margin": null,
            "max_height": null,
            "max_width": null,
            "min_height": null,
            "min_width": null,
            "object_fit": null,
            "object_position": null,
            "order": null,
            "overflow": null,
            "overflow_x": null,
            "overflow_y": null,
            "padding": null,
            "right": null,
            "top": null,
            "visibility": null,
            "width": null
          }
        },
        "5998913fa6e44fa199ce8630fdc5c025": {
          "model_module": "@jupyter-widgets/controls",
          "model_name": "DescriptionStyleModel",
          "model_module_version": "1.5.0",
          "state": {
            "_model_module": "@jupyter-widgets/controls",
            "_model_module_version": "1.5.0",
            "_model_name": "DescriptionStyleModel",
            "_view_count": null,
            "_view_module": "@jupyter-widgets/base",
            "_view_module_version": "1.2.0",
            "_view_name": "StyleView",
            "description_width": ""
          }
        },
        "90c5ff4a87d944adb7d02c7c5be78527": {
          "model_module": "@jupyter-widgets/controls",
          "model_name": "HBoxModel",
          "model_module_version": "1.5.0",
          "state": {
            "_dom_classes": [],
            "_model_module": "@jupyter-widgets/controls",
            "_model_module_version": "1.5.0",
            "_model_name": "HBoxModel",
            "_view_count": null,
            "_view_module": "@jupyter-widgets/controls",
            "_view_module_version": "1.5.0",
            "_view_name": "HBoxView",
            "box_style": "",
            "children": [
              "IPY_MODEL_ae4d404c25794412b123c99b008d3f1e",
              "IPY_MODEL_e22b74e1a70d48dc964f3f9db25d97b7",
              "IPY_MODEL_842a2298c8634917a7f316ce8f756eab"
            ],
            "layout": "IPY_MODEL_b618e504879a4c35bc964de4c6536372"
          }
        },
        "ae4d404c25794412b123c99b008d3f1e": {
          "model_module": "@jupyter-widgets/controls",
          "model_name": "HTMLModel",
          "model_module_version": "1.5.0",
          "state": {
            "_dom_classes": [],
            "_model_module": "@jupyter-widgets/controls",
            "_model_module_version": "1.5.0",
            "_model_name": "HTMLModel",
            "_view_count": null,
            "_view_module": "@jupyter-widgets/controls",
            "_view_module_version": "1.5.0",
            "_view_name": "HTMLView",
            "description": "",
            "description_tooltip": null,
            "layout": "IPY_MODEL_acec74002bc44d58a88acbb79caddb2e",
            "placeholder": "​",
            "style": "IPY_MODEL_1dd34381c9684b33ae3ebb6bfa27e611",
            "value": "tokenizer.json: 100%"
          }
        },
        "e22b74e1a70d48dc964f3f9db25d97b7": {
          "model_module": "@jupyter-widgets/controls",
          "model_name": "FloatProgressModel",
          "model_module_version": "1.5.0",
          "state": {
            "_dom_classes": [],
            "_model_module": "@jupyter-widgets/controls",
            "_model_module_version": "1.5.0",
            "_model_name": "FloatProgressModel",
            "_view_count": null,
            "_view_module": "@jupyter-widgets/controls",
            "_view_module_version": "1.5.0",
            "_view_name": "ProgressView",
            "bar_style": "success",
            "description": "",
            "description_tooltip": null,
            "layout": "IPY_MODEL_8190d139cb284a7f9fee90a959241fa9",
            "max": 435797,
            "min": 0,
            "orientation": "horizontal",
            "style": "IPY_MODEL_44427c9f1b08483789eaa4d80648a0b5",
            "value": 435797
          }
        },
        "842a2298c8634917a7f316ce8f756eab": {
          "model_module": "@jupyter-widgets/controls",
          "model_name": "HTMLModel",
          "model_module_version": "1.5.0",
          "state": {
            "_dom_classes": [],
            "_model_module": "@jupyter-widgets/controls",
            "_model_module_version": "1.5.0",
            "_model_name": "HTMLModel",
            "_view_count": null,
            "_view_module": "@jupyter-widgets/controls",
            "_view_module_version": "1.5.0",
            "_view_name": "HTMLView",
            "description": "",
            "description_tooltip": null,
            "layout": "IPY_MODEL_a48f66ceea0b470e96d82b0707150ef3",
            "placeholder": "​",
            "style": "IPY_MODEL_c850357509bc43fea9793d822afc9426",
            "value": " 436k/436k [00:00&lt;00:00, 6.00MB/s]"
          }
        },
        "b618e504879a4c35bc964de4c6536372": {
          "model_module": "@jupyter-widgets/base",
          "model_name": "LayoutModel",
          "model_module_version": "1.2.0",
          "state": {
            "_model_module": "@jupyter-widgets/base",
            "_model_module_version": "1.2.0",
            "_model_name": "LayoutModel",
            "_view_count": null,
            "_view_module": "@jupyter-widgets/base",
            "_view_module_version": "1.2.0",
            "_view_name": "LayoutView",
            "align_content": null,
            "align_items": null,
            "align_self": null,
            "border": null,
            "bottom": null,
            "display": null,
            "flex": null,
            "flex_flow": null,
            "grid_area": null,
            "grid_auto_columns": null,
            "grid_auto_flow": null,
            "grid_auto_rows": null,
            "grid_column": null,
            "grid_gap": null,
            "grid_row": null,
            "grid_template_areas": null,
            "grid_template_columns": null,
            "grid_template_rows": null,
            "height": null,
            "justify_content": null,
            "justify_items": null,
            "left": null,
            "margin": null,
            "max_height": null,
            "max_width": null,
            "min_height": null,
            "min_width": null,
            "object_fit": null,
            "object_position": null,
            "order": null,
            "overflow": null,
            "overflow_x": null,
            "overflow_y": null,
            "padding": null,
            "right": null,
            "top": null,
            "visibility": null,
            "width": null
          }
        },
        "acec74002bc44d58a88acbb79caddb2e": {
          "model_module": "@jupyter-widgets/base",
          "model_name": "LayoutModel",
          "model_module_version": "1.2.0",
          "state": {
            "_model_module": "@jupyter-widgets/base",
            "_model_module_version": "1.2.0",
            "_model_name": "LayoutModel",
            "_view_count": null,
            "_view_module": "@jupyter-widgets/base",
            "_view_module_version": "1.2.0",
            "_view_name": "LayoutView",
            "align_content": null,
            "align_items": null,
            "align_self": null,
            "border": null,
            "bottom": null,
            "display": null,
            "flex": null,
            "flex_flow": null,
            "grid_area": null,
            "grid_auto_columns": null,
            "grid_auto_flow": null,
            "grid_auto_rows": null,
            "grid_column": null,
            "grid_gap": null,
            "grid_row": null,
            "grid_template_areas": null,
            "grid_template_columns": null,
            "grid_template_rows": null,
            "height": null,
            "justify_content": null,
            "justify_items": null,
            "left": null,
            "margin": null,
            "max_height": null,
            "max_width": null,
            "min_height": null,
            "min_width": null,
            "object_fit": null,
            "object_position": null,
            "order": null,
            "overflow": null,
            "overflow_x": null,
            "overflow_y": null,
            "padding": null,
            "right": null,
            "top": null,
            "visibility": null,
            "width": null
          }
        },
        "1dd34381c9684b33ae3ebb6bfa27e611": {
          "model_module": "@jupyter-widgets/controls",
          "model_name": "DescriptionStyleModel",
          "model_module_version": "1.5.0",
          "state": {
            "_model_module": "@jupyter-widgets/controls",
            "_model_module_version": "1.5.0",
            "_model_name": "DescriptionStyleModel",
            "_view_count": null,
            "_view_module": "@jupyter-widgets/base",
            "_view_module_version": "1.2.0",
            "_view_name": "StyleView",
            "description_width": ""
          }
        },
        "8190d139cb284a7f9fee90a959241fa9": {
          "model_module": "@jupyter-widgets/base",
          "model_name": "LayoutModel",
          "model_module_version": "1.2.0",
          "state": {
            "_model_module": "@jupyter-widgets/base",
            "_model_module_version": "1.2.0",
            "_model_name": "LayoutModel",
            "_view_count": null,
            "_view_module": "@jupyter-widgets/base",
            "_view_module_version": "1.2.0",
            "_view_name": "LayoutView",
            "align_content": null,
            "align_items": null,
            "align_self": null,
            "border": null,
            "bottom": null,
            "display": null,
            "flex": null,
            "flex_flow": null,
            "grid_area": null,
            "grid_auto_columns": null,
            "grid_auto_flow": null,
            "grid_auto_rows": null,
            "grid_column": null,
            "grid_gap": null,
            "grid_row": null,
            "grid_template_areas": null,
            "grid_template_columns": null,
            "grid_template_rows": null,
            "height": null,
            "justify_content": null,
            "justify_items": null,
            "left": null,
            "margin": null,
            "max_height": null,
            "max_width": null,
            "min_height": null,
            "min_width": null,
            "object_fit": null,
            "object_position": null,
            "order": null,
            "overflow": null,
            "overflow_x": null,
            "overflow_y": null,
            "padding": null,
            "right": null,
            "top": null,
            "visibility": null,
            "width": null
          }
        },
        "44427c9f1b08483789eaa4d80648a0b5": {
          "model_module": "@jupyter-widgets/controls",
          "model_name": "ProgressStyleModel",
          "model_module_version": "1.5.0",
          "state": {
            "_model_module": "@jupyter-widgets/controls",
            "_model_module_version": "1.5.0",
            "_model_name": "ProgressStyleModel",
            "_view_count": null,
            "_view_module": "@jupyter-widgets/base",
            "_view_module_version": "1.2.0",
            "_view_name": "StyleView",
            "bar_color": null,
            "description_width": ""
          }
        },
        "a48f66ceea0b470e96d82b0707150ef3": {
          "model_module": "@jupyter-widgets/base",
          "model_name": "LayoutModel",
          "model_module_version": "1.2.0",
          "state": {
            "_model_module": "@jupyter-widgets/base",
            "_model_module_version": "1.2.0",
            "_model_name": "LayoutModel",
            "_view_count": null,
            "_view_module": "@jupyter-widgets/base",
            "_view_module_version": "1.2.0",
            "_view_name": "LayoutView",
            "align_content": null,
            "align_items": null,
            "align_self": null,
            "border": null,
            "bottom": null,
            "display": null,
            "flex": null,
            "flex_flow": null,
            "grid_area": null,
            "grid_auto_columns": null,
            "grid_auto_flow": null,
            "grid_auto_rows": null,
            "grid_column": null,
            "grid_gap": null,
            "grid_row": null,
            "grid_template_areas": null,
            "grid_template_columns": null,
            "grid_template_rows": null,
            "height": null,
            "justify_content": null,
            "justify_items": null,
            "left": null,
            "margin": null,
            "max_height": null,
            "max_width": null,
            "min_height": null,
            "min_width": null,
            "object_fit": null,
            "object_position": null,
            "order": null,
            "overflow": null,
            "overflow_x": null,
            "overflow_y": null,
            "padding": null,
            "right": null,
            "top": null,
            "visibility": null,
            "width": null
          }
        },
        "c850357509bc43fea9793d822afc9426": {
          "model_module": "@jupyter-widgets/controls",
          "model_name": "DescriptionStyleModel",
          "model_module_version": "1.5.0",
          "state": {
            "_model_module": "@jupyter-widgets/controls",
            "_model_module_version": "1.5.0",
            "_model_name": "DescriptionStyleModel",
            "_view_count": null,
            "_view_module": "@jupyter-widgets/base",
            "_view_module_version": "1.2.0",
            "_view_name": "StyleView",
            "description_width": ""
          }
        },
        "fd56e973a147445d9d1b3b66e8f13b1b": {
          "model_module": "@jupyter-widgets/controls",
          "model_name": "HBoxModel",
          "model_module_version": "1.5.0",
          "state": {
            "_dom_classes": [],
            "_model_module": "@jupyter-widgets/controls",
            "_model_module_version": "1.5.0",
            "_model_name": "HBoxModel",
            "_view_count": null,
            "_view_module": "@jupyter-widgets/controls",
            "_view_module_version": "1.5.0",
            "_view_name": "HBoxView",
            "box_style": "",
            "children": [
              "IPY_MODEL_31aca375b51d480e93cbc07ecce1143e",
              "IPY_MODEL_2da8bf555d70469caed348d512fdf257",
              "IPY_MODEL_ae576251627c4f989a59846aa9d366e8"
            ],
            "layout": "IPY_MODEL_6785b92e44a94520823f52fd91dd9c7b"
          }
        },
        "31aca375b51d480e93cbc07ecce1143e": {
          "model_module": "@jupyter-widgets/controls",
          "model_name": "HTMLModel",
          "model_module_version": "1.5.0",
          "state": {
            "_dom_classes": [],
            "_model_module": "@jupyter-widgets/controls",
            "_model_module_version": "1.5.0",
            "_model_name": "HTMLModel",
            "_view_count": null,
            "_view_module": "@jupyter-widgets/controls",
            "_view_module_version": "1.5.0",
            "_view_name": "HTMLView",
            "description": "",
            "description_tooltip": null,
            "layout": "IPY_MODEL_463572a6f5544f98b729047769d47b77",
            "placeholder": "​",
            "style": "IPY_MODEL_b78feeeb690d45e5a6e91d9725d2c1aa",
            "value": "config.json: 100%"
          }
        },
        "2da8bf555d70469caed348d512fdf257": {
          "model_module": "@jupyter-widgets/controls",
          "model_name": "FloatProgressModel",
          "model_module_version": "1.5.0",
          "state": {
            "_dom_classes": [],
            "_model_module": "@jupyter-widgets/controls",
            "_model_module_version": "1.5.0",
            "_model_name": "FloatProgressModel",
            "_view_count": null,
            "_view_module": "@jupyter-widgets/controls",
            "_view_module_version": "1.5.0",
            "_view_name": "ProgressView",
            "bar_style": "success",
            "description": "",
            "description_tooltip": null,
            "layout": "IPY_MODEL_893ba90b335b45a798fe8a05a104d054",
            "max": 570,
            "min": 0,
            "orientation": "horizontal",
            "style": "IPY_MODEL_0e56cab1dae14e1083a4f2b571f7ab79",
            "value": 570
          }
        },
        "ae576251627c4f989a59846aa9d366e8": {
          "model_module": "@jupyter-widgets/controls",
          "model_name": "HTMLModel",
          "model_module_version": "1.5.0",
          "state": {
            "_dom_classes": [],
            "_model_module": "@jupyter-widgets/controls",
            "_model_module_version": "1.5.0",
            "_model_name": "HTMLModel",
            "_view_count": null,
            "_view_module": "@jupyter-widgets/controls",
            "_view_module_version": "1.5.0",
            "_view_name": "HTMLView",
            "description": "",
            "description_tooltip": null,
            "layout": "IPY_MODEL_93397b8f827f491f8a30775c7173d115",
            "placeholder": "​",
            "style": "IPY_MODEL_75dc5423f59c41bb90f0653344660dc2",
            "value": " 570/570 [00:00&lt;00:00, 33.0kB/s]"
          }
        },
        "6785b92e44a94520823f52fd91dd9c7b": {
          "model_module": "@jupyter-widgets/base",
          "model_name": "LayoutModel",
          "model_module_version": "1.2.0",
          "state": {
            "_model_module": "@jupyter-widgets/base",
            "_model_module_version": "1.2.0",
            "_model_name": "LayoutModel",
            "_view_count": null,
            "_view_module": "@jupyter-widgets/base",
            "_view_module_version": "1.2.0",
            "_view_name": "LayoutView",
            "align_content": null,
            "align_items": null,
            "align_self": null,
            "border": null,
            "bottom": null,
            "display": null,
            "flex": null,
            "flex_flow": null,
            "grid_area": null,
            "grid_auto_columns": null,
            "grid_auto_flow": null,
            "grid_auto_rows": null,
            "grid_column": null,
            "grid_gap": null,
            "grid_row": null,
            "grid_template_areas": null,
            "grid_template_columns": null,
            "grid_template_rows": null,
            "height": null,
            "justify_content": null,
            "justify_items": null,
            "left": null,
            "margin": null,
            "max_height": null,
            "max_width": null,
            "min_height": null,
            "min_width": null,
            "object_fit": null,
            "object_position": null,
            "order": null,
            "overflow": null,
            "overflow_x": null,
            "overflow_y": null,
            "padding": null,
            "right": null,
            "top": null,
            "visibility": null,
            "width": null
          }
        },
        "463572a6f5544f98b729047769d47b77": {
          "model_module": "@jupyter-widgets/base",
          "model_name": "LayoutModel",
          "model_module_version": "1.2.0",
          "state": {
            "_model_module": "@jupyter-widgets/base",
            "_model_module_version": "1.2.0",
            "_model_name": "LayoutModel",
            "_view_count": null,
            "_view_module": "@jupyter-widgets/base",
            "_view_module_version": "1.2.0",
            "_view_name": "LayoutView",
            "align_content": null,
            "align_items": null,
            "align_self": null,
            "border": null,
            "bottom": null,
            "display": null,
            "flex": null,
            "flex_flow": null,
            "grid_area": null,
            "grid_auto_columns": null,
            "grid_auto_flow": null,
            "grid_auto_rows": null,
            "grid_column": null,
            "grid_gap": null,
            "grid_row": null,
            "grid_template_areas": null,
            "grid_template_columns": null,
            "grid_template_rows": null,
            "height": null,
            "justify_content": null,
            "justify_items": null,
            "left": null,
            "margin": null,
            "max_height": null,
            "max_width": null,
            "min_height": null,
            "min_width": null,
            "object_fit": null,
            "object_position": null,
            "order": null,
            "overflow": null,
            "overflow_x": null,
            "overflow_y": null,
            "padding": null,
            "right": null,
            "top": null,
            "visibility": null,
            "width": null
          }
        },
        "b78feeeb690d45e5a6e91d9725d2c1aa": {
          "model_module": "@jupyter-widgets/controls",
          "model_name": "DescriptionStyleModel",
          "model_module_version": "1.5.0",
          "state": {
            "_model_module": "@jupyter-widgets/controls",
            "_model_module_version": "1.5.0",
            "_model_name": "DescriptionStyleModel",
            "_view_count": null,
            "_view_module": "@jupyter-widgets/base",
            "_view_module_version": "1.2.0",
            "_view_name": "StyleView",
            "description_width": ""
          }
        },
        "893ba90b335b45a798fe8a05a104d054": {
          "model_module": "@jupyter-widgets/base",
          "model_name": "LayoutModel",
          "model_module_version": "1.2.0",
          "state": {
            "_model_module": "@jupyter-widgets/base",
            "_model_module_version": "1.2.0",
            "_model_name": "LayoutModel",
            "_view_count": null,
            "_view_module": "@jupyter-widgets/base",
            "_view_module_version": "1.2.0",
            "_view_name": "LayoutView",
            "align_content": null,
            "align_items": null,
            "align_self": null,
            "border": null,
            "bottom": null,
            "display": null,
            "flex": null,
            "flex_flow": null,
            "grid_area": null,
            "grid_auto_columns": null,
            "grid_auto_flow": null,
            "grid_auto_rows": null,
            "grid_column": null,
            "grid_gap": null,
            "grid_row": null,
            "grid_template_areas": null,
            "grid_template_columns": null,
            "grid_template_rows": null,
            "height": null,
            "justify_content": null,
            "justify_items": null,
            "left": null,
            "margin": null,
            "max_height": null,
            "max_width": null,
            "min_height": null,
            "min_width": null,
            "object_fit": null,
            "object_position": null,
            "order": null,
            "overflow": null,
            "overflow_x": null,
            "overflow_y": null,
            "padding": null,
            "right": null,
            "top": null,
            "visibility": null,
            "width": null
          }
        },
        "0e56cab1dae14e1083a4f2b571f7ab79": {
          "model_module": "@jupyter-widgets/controls",
          "model_name": "ProgressStyleModel",
          "model_module_version": "1.5.0",
          "state": {
            "_model_module": "@jupyter-widgets/controls",
            "_model_module_version": "1.5.0",
            "_model_name": "ProgressStyleModel",
            "_view_count": null,
            "_view_module": "@jupyter-widgets/base",
            "_view_module_version": "1.2.0",
            "_view_name": "StyleView",
            "bar_color": null,
            "description_width": ""
          }
        },
        "93397b8f827f491f8a30775c7173d115": {
          "model_module": "@jupyter-widgets/base",
          "model_name": "LayoutModel",
          "model_module_version": "1.2.0",
          "state": {
            "_model_module": "@jupyter-widgets/base",
            "_model_module_version": "1.2.0",
            "_model_name": "LayoutModel",
            "_view_count": null,
            "_view_module": "@jupyter-widgets/base",
            "_view_module_version": "1.2.0",
            "_view_name": "LayoutView",
            "align_content": null,
            "align_items": null,
            "align_self": null,
            "border": null,
            "bottom": null,
            "display": null,
            "flex": null,
            "flex_flow": null,
            "grid_area": null,
            "grid_auto_columns": null,
            "grid_auto_flow": null,
            "grid_auto_rows": null,
            "grid_column": null,
            "grid_gap": null,
            "grid_row": null,
            "grid_template_areas": null,
            "grid_template_columns": null,
            "grid_template_rows": null,
            "height": null,
            "justify_content": null,
            "justify_items": null,
            "left": null,
            "margin": null,
            "max_height": null,
            "max_width": null,
            "min_height": null,
            "min_width": null,
            "object_fit": null,
            "object_position": null,
            "order": null,
            "overflow": null,
            "overflow_x": null,
            "overflow_y": null,
            "padding": null,
            "right": null,
            "top": null,
            "visibility": null,
            "width": null
          }
        },
        "75dc5423f59c41bb90f0653344660dc2": {
          "model_module": "@jupyter-widgets/controls",
          "model_name": "DescriptionStyleModel",
          "model_module_version": "1.5.0",
          "state": {
            "_model_module": "@jupyter-widgets/controls",
            "_model_module_version": "1.5.0",
            "_model_name": "DescriptionStyleModel",
            "_view_count": null,
            "_view_module": "@jupyter-widgets/base",
            "_view_module_version": "1.2.0",
            "_view_name": "StyleView",
            "description_width": ""
          }
        },
        "eac0304a8a194ef8a48bf38d46c879e2": {
          "model_module": "@jupyter-widgets/controls",
          "model_name": "HBoxModel",
          "model_module_version": "1.5.0",
          "state": {
            "_dom_classes": [],
            "_model_module": "@jupyter-widgets/controls",
            "_model_module_version": "1.5.0",
            "_model_name": "HBoxModel",
            "_view_count": null,
            "_view_module": "@jupyter-widgets/controls",
            "_view_module_version": "1.5.0",
            "_view_name": "HBoxView",
            "box_style": "",
            "children": [
              "IPY_MODEL_a0f8495dfa08418682bcba901b370759",
              "IPY_MODEL_6bc3f495ed4b4cadb69360db42b4858b",
              "IPY_MODEL_dc2789e529f74ffeb4d8b03c86611edd"
            ],
            "layout": "IPY_MODEL_afd2beac6f234a3ba28903ac74d88fb2"
          }
        },
        "a0f8495dfa08418682bcba901b370759": {
          "model_module": "@jupyter-widgets/controls",
          "model_name": "HTMLModel",
          "model_module_version": "1.5.0",
          "state": {
            "_dom_classes": [],
            "_model_module": "@jupyter-widgets/controls",
            "_model_module_version": "1.5.0",
            "_model_name": "HTMLModel",
            "_view_count": null,
            "_view_module": "@jupyter-widgets/controls",
            "_view_module_version": "1.5.0",
            "_view_name": "HTMLView",
            "description": "",
            "description_tooltip": null,
            "layout": "IPY_MODEL_b1be29ef848441cfa62451dcd2141319",
            "placeholder": "​",
            "style": "IPY_MODEL_52a954151a904dbeb9ff4feef21b9e74",
            "value": "model.safetensors: 100%"
          }
        },
        "6bc3f495ed4b4cadb69360db42b4858b": {
          "model_module": "@jupyter-widgets/controls",
          "model_name": "FloatProgressModel",
          "model_module_version": "1.5.0",
          "state": {
            "_dom_classes": [],
            "_model_module": "@jupyter-widgets/controls",
            "_model_module_version": "1.5.0",
            "_model_name": "FloatProgressModel",
            "_view_count": null,
            "_view_module": "@jupyter-widgets/controls",
            "_view_module_version": "1.5.0",
            "_view_name": "ProgressView",
            "bar_style": "success",
            "description": "",
            "description_tooltip": null,
            "layout": "IPY_MODEL_9135cbceda3e4c0f9b48733f95f98ff0",
            "max": 435755784,
            "min": 0,
            "orientation": "horizontal",
            "style": "IPY_MODEL_3eb64087405d42d1b3d10a7d01c54e55",
            "value": 435755784
          }
        },
        "dc2789e529f74ffeb4d8b03c86611edd": {
          "model_module": "@jupyter-widgets/controls",
          "model_name": "HTMLModel",
          "model_module_version": "1.5.0",
          "state": {
            "_dom_classes": [],
            "_model_module": "@jupyter-widgets/controls",
            "_model_module_version": "1.5.0",
            "_model_name": "HTMLModel",
            "_view_count": null,
            "_view_module": "@jupyter-widgets/controls",
            "_view_module_version": "1.5.0",
            "_view_name": "HTMLView",
            "description": "",
            "description_tooltip": null,
            "layout": "IPY_MODEL_8886f40912bf40859d059b6f0cb3a364",
            "placeholder": "​",
            "style": "IPY_MODEL_55852a94a2b44927905de85c3bb5814d",
            "value": " 436M/436M [00:07&lt;00:00, 67.8MB/s]"
          }
        },
        "afd2beac6f234a3ba28903ac74d88fb2": {
          "model_module": "@jupyter-widgets/base",
          "model_name": "LayoutModel",
          "model_module_version": "1.2.0",
          "state": {
            "_model_module": "@jupyter-widgets/base",
            "_model_module_version": "1.2.0",
            "_model_name": "LayoutModel",
            "_view_count": null,
            "_view_module": "@jupyter-widgets/base",
            "_view_module_version": "1.2.0",
            "_view_name": "LayoutView",
            "align_content": null,
            "align_items": null,
            "align_self": null,
            "border": null,
            "bottom": null,
            "display": null,
            "flex": null,
            "flex_flow": null,
            "grid_area": null,
            "grid_auto_columns": null,
            "grid_auto_flow": null,
            "grid_auto_rows": null,
            "grid_column": null,
            "grid_gap": null,
            "grid_row": null,
            "grid_template_areas": null,
            "grid_template_columns": null,
            "grid_template_rows": null,
            "height": null,
            "justify_content": null,
            "justify_items": null,
            "left": null,
            "margin": null,
            "max_height": null,
            "max_width": null,
            "min_height": null,
            "min_width": null,
            "object_fit": null,
            "object_position": null,
            "order": null,
            "overflow": null,
            "overflow_x": null,
            "overflow_y": null,
            "padding": null,
            "right": null,
            "top": null,
            "visibility": null,
            "width": null
          }
        },
        "b1be29ef848441cfa62451dcd2141319": {
          "model_module": "@jupyter-widgets/base",
          "model_name": "LayoutModel",
          "model_module_version": "1.2.0",
          "state": {
            "_model_module": "@jupyter-widgets/base",
            "_model_module_version": "1.2.0",
            "_model_name": "LayoutModel",
            "_view_count": null,
            "_view_module": "@jupyter-widgets/base",
            "_view_module_version": "1.2.0",
            "_view_name": "LayoutView",
            "align_content": null,
            "align_items": null,
            "align_self": null,
            "border": null,
            "bottom": null,
            "display": null,
            "flex": null,
            "flex_flow": null,
            "grid_area": null,
            "grid_auto_columns": null,
            "grid_auto_flow": null,
            "grid_auto_rows": null,
            "grid_column": null,
            "grid_gap": null,
            "grid_row": null,
            "grid_template_areas": null,
            "grid_template_columns": null,
            "grid_template_rows": null,
            "height": null,
            "justify_content": null,
            "justify_items": null,
            "left": null,
            "margin": null,
            "max_height": null,
            "max_width": null,
            "min_height": null,
            "min_width": null,
            "object_fit": null,
            "object_position": null,
            "order": null,
            "overflow": null,
            "overflow_x": null,
            "overflow_y": null,
            "padding": null,
            "right": null,
            "top": null,
            "visibility": null,
            "width": null
          }
        },
        "52a954151a904dbeb9ff4feef21b9e74": {
          "model_module": "@jupyter-widgets/controls",
          "model_name": "DescriptionStyleModel",
          "model_module_version": "1.5.0",
          "state": {
            "_model_module": "@jupyter-widgets/controls",
            "_model_module_version": "1.5.0",
            "_model_name": "DescriptionStyleModel",
            "_view_count": null,
            "_view_module": "@jupyter-widgets/base",
            "_view_module_version": "1.2.0",
            "_view_name": "StyleView",
            "description_width": ""
          }
        },
        "9135cbceda3e4c0f9b48733f95f98ff0": {
          "model_module": "@jupyter-widgets/base",
          "model_name": "LayoutModel",
          "model_module_version": "1.2.0",
          "state": {
            "_model_module": "@jupyter-widgets/base",
            "_model_module_version": "1.2.0",
            "_model_name": "LayoutModel",
            "_view_count": null,
            "_view_module": "@jupyter-widgets/base",
            "_view_module_version": "1.2.0",
            "_view_name": "LayoutView",
            "align_content": null,
            "align_items": null,
            "align_self": null,
            "border": null,
            "bottom": null,
            "display": null,
            "flex": null,
            "flex_flow": null,
            "grid_area": null,
            "grid_auto_columns": null,
            "grid_auto_flow": null,
            "grid_auto_rows": null,
            "grid_column": null,
            "grid_gap": null,
            "grid_row": null,
            "grid_template_areas": null,
            "grid_template_columns": null,
            "grid_template_rows": null,
            "height": null,
            "justify_content": null,
            "justify_items": null,
            "left": null,
            "margin": null,
            "max_height": null,
            "max_width": null,
            "min_height": null,
            "min_width": null,
            "object_fit": null,
            "object_position": null,
            "order": null,
            "overflow": null,
            "overflow_x": null,
            "overflow_y": null,
            "padding": null,
            "right": null,
            "top": null,
            "visibility": null,
            "width": null
          }
        },
        "3eb64087405d42d1b3d10a7d01c54e55": {
          "model_module": "@jupyter-widgets/controls",
          "model_name": "ProgressStyleModel",
          "model_module_version": "1.5.0",
          "state": {
            "_model_module": "@jupyter-widgets/controls",
            "_model_module_version": "1.5.0",
            "_model_name": "ProgressStyleModel",
            "_view_count": null,
            "_view_module": "@jupyter-widgets/base",
            "_view_module_version": "1.2.0",
            "_view_name": "StyleView",
            "bar_color": null,
            "description_width": ""
          }
        },
        "8886f40912bf40859d059b6f0cb3a364": {
          "model_module": "@jupyter-widgets/base",
          "model_name": "LayoutModel",
          "model_module_version": "1.2.0",
          "state": {
            "_model_module": "@jupyter-widgets/base",
            "_model_module_version": "1.2.0",
            "_model_name": "LayoutModel",
            "_view_count": null,
            "_view_module": "@jupyter-widgets/base",
            "_view_module_version": "1.2.0",
            "_view_name": "LayoutView",
            "align_content": null,
            "align_items": null,
            "align_self": null,
            "border": null,
            "bottom": null,
            "display": null,
            "flex": null,
            "flex_flow": null,
            "grid_area": null,
            "grid_auto_columns": null,
            "grid_auto_flow": null,
            "grid_auto_rows": null,
            "grid_column": null,
            "grid_gap": null,
            "grid_row": null,
            "grid_template_areas": null,
            "grid_template_columns": null,
            "grid_template_rows": null,
            "height": null,
            "justify_content": null,
            "justify_items": null,
            "left": null,
            "margin": null,
            "max_height": null,
            "max_width": null,
            "min_height": null,
            "min_width": null,
            "object_fit": null,
            "object_position": null,
            "order": null,
            "overflow": null,
            "overflow_x": null,
            "overflow_y": null,
            "padding": null,
            "right": null,
            "top": null,
            "visibility": null,
            "width": null
          }
        },
        "55852a94a2b44927905de85c3bb5814d": {
          "model_module": "@jupyter-widgets/controls",
          "model_name": "DescriptionStyleModel",
          "model_module_version": "1.5.0",
          "state": {
            "_model_module": "@jupyter-widgets/controls",
            "_model_module_version": "1.5.0",
            "_model_name": "DescriptionStyleModel",
            "_view_count": null,
            "_view_module": "@jupyter-widgets/base",
            "_view_module_version": "1.2.0",
            "_view_name": "StyleView",
            "description_width": ""
          }
        }
      }
    }
  },
  "nbformat": 4,
  "nbformat_minor": 0
}